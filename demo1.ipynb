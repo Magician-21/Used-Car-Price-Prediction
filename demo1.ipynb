{
 "cells": [
  {
   "cell_type": "code",
   "id": "initial_id",
   "metadata": {
    "collapsed": true,
    "ExecuteTime": {
     "end_time": "2025-04-14T14:12:38.675435Z",
     "start_time": "2025-04-14T14:12:37.998727Z"
    }
   },
   "source": [
    "from idlelib.iomenu import errors\n",
    "\n",
    "import matplotlib.pyplot as plt\n",
    "import pandas as pd\n",
    "import numpy as np\n",
    "import seaborn as sns\n",
    "from IPython.core.pylabtools import figsize\n",
    "from scipy.stats import mode\n",
    "from sklearn.preprocessing import LabelEncoder, StandardScaler\n",
    "from sklearn.model_selection import KFold\n",
    "import lightgbm as lgb\n",
    "import warnings\n",
    "warnings.filterwarnings('ignore')"
   ],
   "outputs": [],
   "execution_count": 1
  },
  {
   "metadata": {},
   "cell_type": "markdown",
   "source": "",
   "id": "6d3a4e077c4d156d"
  },
  {
   "metadata": {
    "ExecuteTime": {
     "end_time": "2025-04-14T14:12:39.165427Z",
     "start_time": "2025-04-14T14:12:38.686449Z"
    }
   },
   "cell_type": "code",
   "source": [
    "train =pd.read_csv('used_car_train_20200313.csv',sep=' ')\n",
    "test = pd.read_csv('used_car_testB_20200421.csv',sep=' ')\n",
    "combine = [train,test]"
   ],
   "id": "4830d1e6143981ff",
   "outputs": [],
   "execution_count": 2
  },
  {
   "metadata": {
    "ExecuteTime": {
     "end_time": "2025-04-14T14:12:39.567331Z",
     "start_time": "2025-04-14T14:12:39.561914Z"
    }
   },
   "cell_type": "code",
   "source": "train.shape",
   "id": "7a458940bc168af",
   "outputs": [
    {
     "data": {
      "text/plain": [
       "(150000, 31)"
      ]
     },
     "execution_count": 3,
     "metadata": {},
     "output_type": "execute_result"
    }
   ],
   "execution_count": 3
  },
  {
   "metadata": {
    "ExecuteTime": {
     "end_time": "2025-04-14T14:12:39.598419Z",
     "start_time": "2025-04-14T14:12:39.584675Z"
    }
   },
   "cell_type": "code",
   "source": "train.head()",
   "id": "34125af778eb8609",
   "outputs": [
    {
     "data": {
      "text/plain": [
       "   SaleID    name   regDate  model  brand  bodyType  fuelType  gearbox  power  \\\n",
       "0       0     736  20040402   30.0      6       1.0       0.0      0.0     60   \n",
       "1       1    2262  20030301   40.0      1       2.0       0.0      0.0      0   \n",
       "2       2   14874  20040403  115.0     15       1.0       0.0      0.0    163   \n",
       "3       3   71865  19960908  109.0     10       0.0       0.0      1.0    193   \n",
       "4       4  111080  20120103  110.0      5       1.0       0.0      0.0     68   \n",
       "\n",
       "   kilometer  ...       v_5       v_6       v_7       v_8       v_9      v_10  \\\n",
       "0       12.5  ...  0.235676  0.101988  0.129549  0.022816  0.097462 -2.881803   \n",
       "1       15.0  ...  0.264777  0.121004  0.135731  0.026597  0.020582 -4.900482   \n",
       "2       12.5  ...  0.251410  0.114912  0.165147  0.062173  0.027075 -4.846749   \n",
       "3       15.0  ...  0.274293  0.110300  0.121964  0.033395  0.000000 -4.509599   \n",
       "4        5.0  ...  0.228036  0.073205  0.091880  0.078819  0.121534 -1.896240   \n",
       "\n",
       "       v_11      v_12      v_13      v_14  \n",
       "0  2.804097 -2.420821  0.795292  0.914762  \n",
       "1  2.096338 -1.030483 -1.722674  0.245522  \n",
       "2  1.803559  1.565330 -0.832687 -0.229963  \n",
       "3  1.285940 -0.501868 -2.438353 -0.478699  \n",
       "4  0.910783  0.931110  2.834518  1.923482  \n",
       "\n",
       "[5 rows x 31 columns]"
      ],
      "text/html": [
       "<div>\n",
       "<style scoped>\n",
       "    .dataframe tbody tr th:only-of-type {\n",
       "        vertical-align: middle;\n",
       "    }\n",
       "\n",
       "    .dataframe tbody tr th {\n",
       "        vertical-align: top;\n",
       "    }\n",
       "\n",
       "    .dataframe thead th {\n",
       "        text-align: right;\n",
       "    }\n",
       "</style>\n",
       "<table border=\"1\" class=\"dataframe\">\n",
       "  <thead>\n",
       "    <tr style=\"text-align: right;\">\n",
       "      <th></th>\n",
       "      <th>SaleID</th>\n",
       "      <th>name</th>\n",
       "      <th>regDate</th>\n",
       "      <th>model</th>\n",
       "      <th>brand</th>\n",
       "      <th>bodyType</th>\n",
       "      <th>fuelType</th>\n",
       "      <th>gearbox</th>\n",
       "      <th>power</th>\n",
       "      <th>kilometer</th>\n",
       "      <th>...</th>\n",
       "      <th>v_5</th>\n",
       "      <th>v_6</th>\n",
       "      <th>v_7</th>\n",
       "      <th>v_8</th>\n",
       "      <th>v_9</th>\n",
       "      <th>v_10</th>\n",
       "      <th>v_11</th>\n",
       "      <th>v_12</th>\n",
       "      <th>v_13</th>\n",
       "      <th>v_14</th>\n",
       "    </tr>\n",
       "  </thead>\n",
       "  <tbody>\n",
       "    <tr>\n",
       "      <th>0</th>\n",
       "      <td>0</td>\n",
       "      <td>736</td>\n",
       "      <td>20040402</td>\n",
       "      <td>30.0</td>\n",
       "      <td>6</td>\n",
       "      <td>1.0</td>\n",
       "      <td>0.0</td>\n",
       "      <td>0.0</td>\n",
       "      <td>60</td>\n",
       "      <td>12.5</td>\n",
       "      <td>...</td>\n",
       "      <td>0.235676</td>\n",
       "      <td>0.101988</td>\n",
       "      <td>0.129549</td>\n",
       "      <td>0.022816</td>\n",
       "      <td>0.097462</td>\n",
       "      <td>-2.881803</td>\n",
       "      <td>2.804097</td>\n",
       "      <td>-2.420821</td>\n",
       "      <td>0.795292</td>\n",
       "      <td>0.914762</td>\n",
       "    </tr>\n",
       "    <tr>\n",
       "      <th>1</th>\n",
       "      <td>1</td>\n",
       "      <td>2262</td>\n",
       "      <td>20030301</td>\n",
       "      <td>40.0</td>\n",
       "      <td>1</td>\n",
       "      <td>2.0</td>\n",
       "      <td>0.0</td>\n",
       "      <td>0.0</td>\n",
       "      <td>0</td>\n",
       "      <td>15.0</td>\n",
       "      <td>...</td>\n",
       "      <td>0.264777</td>\n",
       "      <td>0.121004</td>\n",
       "      <td>0.135731</td>\n",
       "      <td>0.026597</td>\n",
       "      <td>0.020582</td>\n",
       "      <td>-4.900482</td>\n",
       "      <td>2.096338</td>\n",
       "      <td>-1.030483</td>\n",
       "      <td>-1.722674</td>\n",
       "      <td>0.245522</td>\n",
       "    </tr>\n",
       "    <tr>\n",
       "      <th>2</th>\n",
       "      <td>2</td>\n",
       "      <td>14874</td>\n",
       "      <td>20040403</td>\n",
       "      <td>115.0</td>\n",
       "      <td>15</td>\n",
       "      <td>1.0</td>\n",
       "      <td>0.0</td>\n",
       "      <td>0.0</td>\n",
       "      <td>163</td>\n",
       "      <td>12.5</td>\n",
       "      <td>...</td>\n",
       "      <td>0.251410</td>\n",
       "      <td>0.114912</td>\n",
       "      <td>0.165147</td>\n",
       "      <td>0.062173</td>\n",
       "      <td>0.027075</td>\n",
       "      <td>-4.846749</td>\n",
       "      <td>1.803559</td>\n",
       "      <td>1.565330</td>\n",
       "      <td>-0.832687</td>\n",
       "      <td>-0.229963</td>\n",
       "    </tr>\n",
       "    <tr>\n",
       "      <th>3</th>\n",
       "      <td>3</td>\n",
       "      <td>71865</td>\n",
       "      <td>19960908</td>\n",
       "      <td>109.0</td>\n",
       "      <td>10</td>\n",
       "      <td>0.0</td>\n",
       "      <td>0.0</td>\n",
       "      <td>1.0</td>\n",
       "      <td>193</td>\n",
       "      <td>15.0</td>\n",
       "      <td>...</td>\n",
       "      <td>0.274293</td>\n",
       "      <td>0.110300</td>\n",
       "      <td>0.121964</td>\n",
       "      <td>0.033395</td>\n",
       "      <td>0.000000</td>\n",
       "      <td>-4.509599</td>\n",
       "      <td>1.285940</td>\n",
       "      <td>-0.501868</td>\n",
       "      <td>-2.438353</td>\n",
       "      <td>-0.478699</td>\n",
       "    </tr>\n",
       "    <tr>\n",
       "      <th>4</th>\n",
       "      <td>4</td>\n",
       "      <td>111080</td>\n",
       "      <td>20120103</td>\n",
       "      <td>110.0</td>\n",
       "      <td>5</td>\n",
       "      <td>1.0</td>\n",
       "      <td>0.0</td>\n",
       "      <td>0.0</td>\n",
       "      <td>68</td>\n",
       "      <td>5.0</td>\n",
       "      <td>...</td>\n",
       "      <td>0.228036</td>\n",
       "      <td>0.073205</td>\n",
       "      <td>0.091880</td>\n",
       "      <td>0.078819</td>\n",
       "      <td>0.121534</td>\n",
       "      <td>-1.896240</td>\n",
       "      <td>0.910783</td>\n",
       "      <td>0.931110</td>\n",
       "      <td>2.834518</td>\n",
       "      <td>1.923482</td>\n",
       "    </tr>\n",
       "  </tbody>\n",
       "</table>\n",
       "<p>5 rows × 31 columns</p>\n",
       "</div>"
      ]
     },
     "execution_count": 4,
     "metadata": {},
     "output_type": "execute_result"
    }
   ],
   "execution_count": 4
  },
  {
   "metadata": {
    "ExecuteTime": {
     "end_time": "2025-04-14T14:12:39.686423Z",
     "start_time": "2025-04-14T14:12:39.663140Z"
    }
   },
   "cell_type": "code",
   "source": "train.info()",
   "id": "81e4198d9306eb0d",
   "outputs": [
    {
     "name": "stdout",
     "output_type": "stream",
     "text": [
      "<class 'pandas.core.frame.DataFrame'>\n",
      "RangeIndex: 150000 entries, 0 to 149999\n",
      "Data columns (total 31 columns):\n",
      " #   Column             Non-Null Count   Dtype  \n",
      "---  ------             --------------   -----  \n",
      " 0   SaleID             150000 non-null  int64  \n",
      " 1   name               150000 non-null  int64  \n",
      " 2   regDate            150000 non-null  int64  \n",
      " 3   model              149999 non-null  float64\n",
      " 4   brand              150000 non-null  int64  \n",
      " 5   bodyType           145494 non-null  float64\n",
      " 6   fuelType           141320 non-null  float64\n",
      " 7   gearbox            144019 non-null  float64\n",
      " 8   power              150000 non-null  int64  \n",
      " 9   kilometer          150000 non-null  float64\n",
      " 10  notRepairedDamage  150000 non-null  object \n",
      " 11  regionCode         150000 non-null  int64  \n",
      " 12  seller             150000 non-null  int64  \n",
      " 13  offerType          150000 non-null  int64  \n",
      " 14  creatDate          150000 non-null  int64  \n",
      " 15  price              150000 non-null  int64  \n",
      " 16  v_0                150000 non-null  float64\n",
      " 17  v_1                150000 non-null  float64\n",
      " 18  v_2                150000 non-null  float64\n",
      " 19  v_3                150000 non-null  float64\n",
      " 20  v_4                150000 non-null  float64\n",
      " 21  v_5                150000 non-null  float64\n",
      " 22  v_6                150000 non-null  float64\n",
      " 23  v_7                150000 non-null  float64\n",
      " 24  v_8                150000 non-null  float64\n",
      " 25  v_9                150000 non-null  float64\n",
      " 26  v_10               150000 non-null  float64\n",
      " 27  v_11               150000 non-null  float64\n",
      " 28  v_12               150000 non-null  float64\n",
      " 29  v_13               150000 non-null  float64\n",
      " 30  v_14               150000 non-null  float64\n",
      "dtypes: float64(20), int64(10), object(1)\n",
      "memory usage: 35.5+ MB\n"
     ]
    }
   ],
   "execution_count": 5
  },
  {
   "metadata": {
    "ExecuteTime": {
     "end_time": "2025-04-14T14:12:39.729375Z",
     "start_time": "2025-04-14T14:12:39.710506Z"
    }
   },
   "cell_type": "code",
   "source": [
    "print(train.isnull().sum())\n",
    "print('-'*40)\n",
    "test.isnull().sum()"
   ],
   "id": "d7c45da8b9525185",
   "outputs": [
    {
     "name": "stdout",
     "output_type": "stream",
     "text": [
      "SaleID                  0\n",
      "name                    0\n",
      "regDate                 0\n",
      "model                   1\n",
      "brand                   0\n",
      "bodyType             4506\n",
      "fuelType             8680\n",
      "gearbox              5981\n",
      "power                   0\n",
      "kilometer               0\n",
      "notRepairedDamage       0\n",
      "regionCode              0\n",
      "seller                  0\n",
      "offerType               0\n",
      "creatDate               0\n",
      "price                   0\n",
      "v_0                     0\n",
      "v_1                     0\n",
      "v_2                     0\n",
      "v_3                     0\n",
      "v_4                     0\n",
      "v_5                     0\n",
      "v_6                     0\n",
      "v_7                     0\n",
      "v_8                     0\n",
      "v_9                     0\n",
      "v_10                    0\n",
      "v_11                    0\n",
      "v_12                    0\n",
      "v_13                    0\n",
      "v_14                    0\n",
      "dtype: int64\n",
      "----------------------------------------\n"
     ]
    },
    {
     "data": {
      "text/plain": [
       "SaleID                  0\n",
       "name                    0\n",
       "regDate                 0\n",
       "model                   0\n",
       "brand                   0\n",
       "bodyType             1504\n",
       "fuelType             2924\n",
       "gearbox              1968\n",
       "power                   0\n",
       "kilometer               0\n",
       "notRepairedDamage       0\n",
       "regionCode              0\n",
       "seller                  0\n",
       "offerType               0\n",
       "creatDate               0\n",
       "v_0                     0\n",
       "v_1                     0\n",
       "v_2                     0\n",
       "v_3                     0\n",
       "v_4                     0\n",
       "v_5                     0\n",
       "v_6                     0\n",
       "v_7                     0\n",
       "v_8                     0\n",
       "v_9                     0\n",
       "v_10                    0\n",
       "v_11                    0\n",
       "v_12                    0\n",
       "v_13                    0\n",
       "v_14                    0\n",
       "dtype: int64"
      ]
     },
     "execution_count": 6,
     "metadata": {},
     "output_type": "execute_result"
    }
   ],
   "execution_count": 6
  },
  {
   "metadata": {
    "ExecuteTime": {
     "end_time": "2025-04-14T14:12:40.154112Z",
     "start_time": "2025-04-14T14:12:39.945477Z"
    }
   },
   "cell_type": "code",
   "source": [
    "# 空值可视化\n",
    "missing = train.isnull().sum()\n",
    "missing = missing[missing > 0]\n",
    "missing.sort_values(inplace=True)\n",
    "missing.plot.bar()"
   ],
   "id": "b44c26500dbd05d5",
   "outputs": [
    {
     "data": {
      "text/plain": [
       "<Axes: >"
      ]
     },
     "execution_count": 7,
     "metadata": {},
     "output_type": "execute_result"
    },
    {
     "data": {
      "text/plain": [
       "<Figure size 640x480 with 1 Axes>"
      ],
      "image/png": "[encoded data removed]"
     },
     "metadata": {},
     "output_type": "display_data"
    }
   ],
   "execution_count": 7
  },
  {
   "metadata": {
    "ExecuteTime": {
     "end_time": "2025-04-14T14:12:41.649426Z",
     "start_time": "2025-04-14T14:12:40.246251Z"
    }
   },
   "cell_type": "code",
   "source": [
    "sns.histplot(train['kilometer'], kde=True)\n",
    "plt.title('Distribution of kilometers')\n",
    "plt.xlabel('Kilometer')\n",
    "plt.ylabel('Frequency')\n",
    "plt.show()"
   ],
   "id": "1bd71f614f3931fb",
   "outputs": [
    {
     "data": {
      "text/plain": [
       "<Figure size 640x480 with 1 Axes>"
      ],
      "image/png": "[encoded data removed]"
     },
     "metadata": {},
     "output_type": "display_data"
    }
   ],
   "execution_count": 8
  },
  {
   "metadata": {
    "ExecuteTime": {
     "end_time": "2025-04-14T14:12:41.887454Z",
     "start_time": "2025-04-14T14:12:41.670418Z"
    }
   },
   "cell_type": "code",
   "source": [
    "# 绘制 kilometers 列的箱线图\n",
    "sns.boxplot(x=train['kilometer'])\n",
    "plt.title('Boxplot of kilometer')\n",
    "plt.xlabel('Kilometer')\n",
    "plt.show()"
   ],
   "id": "d8793601c3671b62",
   "outputs": [
    {
     "data": {
      "text/plain": [
       "<Figure size 640x480 with 1 Axes>"
      ],
      "image/png": "[encoded data removed]"
     },
     "metadata": {},
     "output_type": "display_data"
    }
   ],
   "execution_count": 9
  },
  {
   "metadata": {},
   "cell_type": "markdown",
   "source": [
    "# 对缺失值处理\n",
    "训练集中\n",
    "model 缺失1条\n",
    "bodyType             4506\n",
    "fuelType             8680\n",
    "gearbox              5981\n",
    "\n",
    "\n",
    "\n"
   ],
   "id": "b367ba1a841a59f4"
  },
  {
   "metadata": {},
   "cell_type": "markdown",
   "source": "gearbox,变速箱，对其缺失值采取众数的填补",
   "id": "a1904648059bbdd"
  },
  {
   "metadata": {
    "ExecuteTime": {
     "end_time": "2025-04-14T14:12:41.904518Z",
     "start_time": "2025-04-14T14:12:41.894597Z"
    }
   },
   "cell_type": "code",
   "source": "train['notRepairedDamage'].value_counts()",
   "id": "ddfb2be9fec6e536",
   "outputs": [
    {
     "data": {
      "text/plain": [
       "notRepairedDamage\n",
       "0.0    111361\n",
       "-       24324\n",
       "1.0     14315\n",
       "Name: count, dtype: int64"
      ]
     },
     "execution_count": 10,
     "metadata": {},
     "output_type": "execute_result"
    }
   ],
   "execution_count": 10
  },
  {
   "metadata": {
    "ExecuteTime": {
     "end_time": "2025-04-14T14:12:41.951881Z",
     "start_time": "2025-04-14T14:12:41.941138Z"
    }
   },
   "cell_type": "code",
   "source": [
    "# 这里先不对- 进行处理，先替换成Nan\n",
    "train['notRepairedDamage'].replace('-',np.nan,inplace=True)"
   ],
   "id": "cb98444b83975277",
   "outputs": [],
   "execution_count": 11
  },
  {
   "metadata": {
    "ExecuteTime": {
     "end_time": "2025-04-14T14:12:42.045280Z",
     "start_time": "2025-04-14T14:12:42.032204Z"
    }
   },
   "cell_type": "code",
   "source": "train.isnull().sum()",
   "id": "194b3c19f9cac62a",
   "outputs": [
    {
     "data": {
      "text/plain": [
       "SaleID                   0\n",
       "name                     0\n",
       "regDate                  0\n",
       "model                    1\n",
       "brand                    0\n",
       "bodyType              4506\n",
       "fuelType              8680\n",
       "gearbox               5981\n",
       "power                    0\n",
       "kilometer                0\n",
       "notRepairedDamage    24324\n",
       "regionCode               0\n",
       "seller                   0\n",
       "offerType                0\n",
       "creatDate                0\n",
       "price                    0\n",
       "v_0                      0\n",
       "v_1                      0\n",
       "v_2                      0\n",
       "v_3                      0\n",
       "v_4                      0\n",
       "v_5                      0\n",
       "v_6                      0\n",
       "v_7                      0\n",
       "v_8                      0\n",
       "v_9                      0\n",
       "v_10                     0\n",
       "v_11                     0\n",
       "v_12                     0\n",
       "v_13                     0\n",
       "v_14                     0\n",
       "dtype: int64"
      ]
     },
     "execution_count": 12,
     "metadata": {},
     "output_type": "execute_result"
    }
   ],
   "execution_count": 12
  },
  {
   "metadata": {
    "ExecuteTime": {
     "end_time": "2025-04-14T14:12:42.098720Z",
     "start_time": "2025-04-14T14:12:42.090847Z"
    }
   },
   "cell_type": "code",
   "source": "test.isnull().sum()",
   "id": "90c2e4161c4145ba",
   "outputs": [
    {
     "data": {
      "text/plain": [
       "SaleID                  0\n",
       "name                    0\n",
       "regDate                 0\n",
       "model                   0\n",
       "brand                   0\n",
       "bodyType             1504\n",
       "fuelType             2924\n",
       "gearbox              1968\n",
       "power                   0\n",
       "kilometer               0\n",
       "notRepairedDamage       0\n",
       "regionCode              0\n",
       "seller                  0\n",
       "offerType               0\n",
       "creatDate               0\n",
       "v_0                     0\n",
       "v_1                     0\n",
       "v_2                     0\n",
       "v_3                     0\n",
       "v_4                     0\n",
       "v_5                     0\n",
       "v_6                     0\n",
       "v_7                     0\n",
       "v_8                     0\n",
       "v_9                     0\n",
       "v_10                    0\n",
       "v_11                    0\n",
       "v_12                    0\n",
       "v_13                    0\n",
       "v_14                    0\n",
       "dtype: int64"
      ]
     },
     "execution_count": 13,
     "metadata": {},
     "output_type": "execute_result"
    }
   ],
   "execution_count": 13
  },
  {
   "metadata": {
    "ExecuteTime": {
     "end_time": "2025-04-14T14:12:42.168996Z",
     "start_time": "2025-04-14T14:12:42.162691Z"
    }
   },
   "cell_type": "code",
   "source": "test['notRepairedDamage'].value_counts()",
   "id": "1f68acf40688a103",
   "outputs": [
    {
     "data": {
      "text/plain": [
       "notRepairedDamage\n",
       "0.0    37224\n",
       "-       8069\n",
       "1.0     4707\n",
       "Name: count, dtype: int64"
      ]
     },
     "execution_count": 14,
     "metadata": {},
     "output_type": "execute_result"
    }
   ],
   "execution_count": 14
  },
  {
   "metadata": {
    "ExecuteTime": {
     "end_time": "2025-04-14T14:12:42.308725Z",
     "start_time": "2025-04-14T14:12:42.301818Z"
    }
   },
   "cell_type": "code",
   "source": "test['notRepairedDamage'].replace('-', np.nan, inplace=True)",
   "id": "bde54c2335707f41",
   "outputs": [],
   "execution_count": 15
  },
  {
   "metadata": {
    "ExecuteTime": {
     "end_time": "2025-04-14T14:12:42.425648Z",
     "start_time": "2025-04-14T14:12:42.419564Z"
    }
   },
   "cell_type": "code",
   "source": [
    "print(train['notRepairedDamage'].dtype)\n",
    "print(train['notRepairedDamage'].unique())"
   ],
   "id": "f61ccf1643cb5f29",
   "outputs": [
    {
     "name": "stdout",
     "output_type": "stream",
     "text": [
      "object\n",
      "['0.0' nan '1.0']\n"
     ]
    }
   ],
   "execution_count": 16
  },
  {
   "metadata": {
    "ExecuteTime": {
     "end_time": "2025-04-14T14:12:42.560474Z",
     "start_time": "2025-04-14T14:12:42.554639Z"
    }
   },
   "cell_type": "code",
   "source": [
    "train[\"seller\"].value_counts()\n",
    "# 该数据严重倾斜，可以删掉"
   ],
   "id": "bd57c5543ef47f5",
   "outputs": [
    {
     "data": {
      "text/plain": [
       "seller\n",
       "0    149999\n",
       "1         1\n",
       "Name: count, dtype: int64"
      ]
     },
     "execution_count": 17,
     "metadata": {},
     "output_type": "execute_result"
    }
   ],
   "execution_count": 17
  },
  {
   "metadata": {
    "ExecuteTime": {
     "end_time": "2025-04-14T14:12:42.651493Z",
     "start_time": "2025-04-14T14:12:42.645408Z"
    }
   },
   "cell_type": "code",
   "source": [
    "train['offerType'].value_counts()\n",
    "#同理"
   ],
   "id": "7f098dcd2f656917",
   "outputs": [
    {
     "data": {
      "text/plain": [
       "offerType\n",
       "0    150000\n",
       "Name: count, dtype: int64"
      ]
     },
     "execution_count": 18,
     "metadata": {},
     "output_type": "execute_result"
    }
   ],
   "execution_count": 18
  },
  {
   "metadata": {
    "ExecuteTime": {
     "end_time": "2025-04-14T14:12:42.765050Z",
     "start_time": "2025-04-14T14:12:42.759603Z"
    }
   },
   "cell_type": "code",
   "source": [
    "# 了解预测值的分布\n",
    "train['price']"
   ],
   "id": "6e00ababd6c344fb",
   "outputs": [
    {
     "data": {
      "text/plain": [
       "0         1850\n",
       "1         3600\n",
       "2         6222\n",
       "3         2400\n",
       "4         5200\n",
       "          ... \n",
       "149995    5900\n",
       "149996    9500\n",
       "149997    7500\n",
       "149998    4999\n",
       "149999    4700\n",
       "Name: price, Length: 150000, dtype: int64"
      ]
     },
     "execution_count": 19,
     "metadata": {},
     "output_type": "execute_result"
    }
   ],
   "execution_count": 19
  },
  {
   "metadata": {
    "ExecuteTime": {
     "end_time": "2025-04-14T14:12:42.904040Z",
     "start_time": "2025-04-14T14:12:42.895921Z"
    }
   },
   "cell_type": "code",
   "source": "train['price'].value_counts()",
   "id": "66bf627c0466b778",
   "outputs": [
    {
     "data": {
      "text/plain": [
       "price\n",
       "500      2337\n",
       "1500     2158\n",
       "1200     1922\n",
       "1000     1850\n",
       "2500     1821\n",
       "         ... \n",
       "36700       1\n",
       "15413       1\n",
       "83000       1\n",
       "14580       1\n",
       "4737        1\n",
       "Name: count, Length: 3763, dtype: int64"
      ]
     },
     "execution_count": 20,
     "metadata": {},
     "output_type": "execute_result"
    }
   ],
   "execution_count": 20
  },
  {
   "metadata": {
    "ExecuteTime": {
     "end_time": "2025-04-14T14:12:50.346627Z",
     "start_time": "2025-04-14T14:12:43.037261Z"
    }
   },
   "cell_type": "code",
   "source": [
    "# 总体分布情况\n",
    "import scipy.stats as st\n",
    "y = train['price']\n",
    "plt.figure(1); plt.title('Johnson SU')\n",
    "sns.distplot(y, kde=False, fit=st.johnsonsu)\n",
    "plt.figure(2); plt.title('Normal')\n",
    "sns.distplot(y, kde=False, fit=st.norm)\n",
    "plt.figure(3); plt.title('Log Normal')\n",
    "sns.distplot(y, kde=False, fit=st.lognorm)"
   ],
   "id": "5b5434a6cd24f4f8",
   "outputs": [
    {
     "data": {
      "text/plain": [
       "<Axes: title={'center': 'Log Normal'}, xlabel='price'>"
      ]
     },
     "execution_count": 21,
     "metadata": {},
     "output_type": "execute_result"
    },
    {
     "data": {
      "text/plain": [
       "<Figure size 640x480 with 1 Axes>"
      ],
      "image/png": "[encoded data removed]"
     },
     "metadata": {},
     "output_type": "display_data"
    },
    {
     "data": {
      "text/plain": [
       "<Figure size 640x480 with 1 Axes>"
      ],
      "image/png": "[encoded data removed]"
     },
     "metadata": {},
     "output_type": "display_data"
    },
    {
     "data": {
      "text/plain": [
       "<Figure size 640x480 with 1 Axes>"
      ],
      "image/png": "[encoded data removed]"
     },
     "metadata": {},
     "output_type": "display_data"
    }
   ],
   "execution_count": 21
  },
  {
   "metadata": {},
   "cell_type": "markdown",
   "source": [
    "价格不服从正态分布，所以在进行回归之前，它必须进行转换，无分界约翰逊分布和对数分布表现更好一点，本次实验采取对数转换。\n",
    "\n",
    "从数据中可以看出大于20000的数较少\n"
   ],
   "id": "9c0a062ddf4152f9"
  },
  {
   "metadata": {
    "ExecuteTime": {
     "end_time": "2025-04-14T14:12:50.370564Z",
     "start_time": "2025-04-14T14:12:50.366874Z"
    }
   },
   "cell_type": "code",
   "source": [
    "def bodyType_fill(train,test):\n",
    "    train_value = train['bodyType'].mode()[0]\n",
    "    test_value = test['bodyType'].mode()[0]\n",
    "\n",
    "    train['bodyType'] = train['bodyType'].fillna(train_value)\n",
    "    test['bodyType'] = test['bodyType'].fillna(test_value)"
   ],
   "id": "8d8dd9337d0b6ad",
   "outputs": [],
   "execution_count": 22
  },
  {
   "metadata": {
    "ExecuteTime": {
     "end_time": "2025-04-14T14:12:50.417120Z",
     "start_time": "2025-04-14T14:12:50.413665Z"
    }
   },
   "cell_type": "code",
   "source": [
    "def fuelType_fill(train,test):\n",
    "    train_value = train['fuelType'].mode()[0]\n",
    "    test_value = test['fuelType'].mode()[0]\n",
    "\n",
    "    train['fuelType'] = train['fuelType'].fillna(train_value)\n",
    "    test['fuelType'] = test['fuelType'].fillna(test_value)"
   ],
   "id": "6da13a8dbbf88853",
   "outputs": [],
   "execution_count": 23
  },
  {
   "metadata": {
    "ExecuteTime": {
     "end_time": "2025-04-14T14:12:50.512362Z",
     "start_time": "2025-04-14T14:12:50.508241Z"
    }
   },
   "cell_type": "code",
   "source": [
    "def gearbox_fill(train,test):\n",
    "    train_value = train['gearbox'].mode()[0]\n",
    "    test_value = test['gearbox'].mode()[0]\n",
    "\n",
    "    train['gearbox'] = train['gearbox'].fillna(train_value)\n",
    "    test['gearbox'] = test['gearbox'].fillna(test_value)"
   ],
   "id": "7f85ea0cc80e035c",
   "outputs": [],
   "execution_count": 24
  },
  {
   "metadata": {
    "ExecuteTime": {
     "end_time": "2025-04-14T14:12:50.579156Z",
     "start_time": "2025-04-14T14:12:50.574705Z"
    }
   },
   "cell_type": "code",
   "source": [
    "# 进行验证\n",
    "print(train['gearbox'].isnull().sum())\n",
    "\n",
    "print(test['gearbox'].isnull().sum())"
   ],
   "id": "1849f0c4aeb361f0",
   "outputs": [
    {
     "name": "stdout",
     "output_type": "stream",
     "text": [
      "5981\n",
      "1968\n"
     ]
    }
   ],
   "execution_count": 25
  },
  {
   "metadata": {
    "ExecuteTime": {
     "end_time": "2025-04-14T14:12:50.633994Z",
     "start_time": "2025-04-14T14:12:50.630943Z"
    }
   },
   "cell_type": "code",
   "source": "# 对power的缺失值,留在后续进行处理",
   "id": "5a33de63a22ae83f",
   "outputs": [],
   "execution_count": 26
  },
  {
   "metadata": {
    "ExecuteTime": {
     "end_time": "2025-04-14T14:12:50.653566Z",
     "start_time": "2025-04-14T14:12:50.650479Z"
    }
   },
   "cell_type": "code",
   "source": [
    "def power_fill(train,test):\n",
    "    train_value = train['power'].mean()\n",
    "    test_value = test['power'].mean()\n",
    "    train['power'] = train['power'].fillna(train_value)\n",
    "    test['power'] = test['power'].fillna(test_value)\n"
   ],
   "id": "7a7842b0d8f58233",
   "outputs": [],
   "execution_count": 27
  },
  {
   "metadata": {
    "ExecuteTime": {
     "end_time": "2025-04-14T14:12:50.688631Z",
     "start_time": "2025-04-14T14:12:50.685568Z"
    }
   },
   "cell_type": "code",
   "source": [
    "def kilometer_fill(train,test):\n",
    "    train_value = train['kilometer'].mean()\n",
    "    test_value = test['kilometer'].mean()\n",
    "    train['kilometer'] = train['kilometer'].fillna(train_value)\n",
    "    test['kilometer'] = test['kilometer'].fillna(test_value)\n"
   ],
   "id": "6f2e53c382f2a5be",
   "outputs": [],
   "execution_count": 28
  },
  {
   "metadata": {
    "ExecuteTime": {
     "end_time": "2025-04-14T14:12:50.697847Z",
     "start_time": "2025-04-14T14:12:50.694614Z"
    }
   },
   "cell_type": "code",
   "source": [
    "def notRepairedDamage_fill(train, test):\n",
    "    # 合并 train 和 test 集的数据用于计算众数\n",
    "    combined_data = pd.concat([train['notRepairedDamage'], test['notRepairedDamage']])\n",
    "    # 去除 '-' 并计算众数\n",
    "    valid_data = combined_data[combined_data != '-']\n",
    "    # 使用 pandas 的 mode 方法计算众数\n",
    "    mode_value = valid_data.mode()[0]\n",
    "\n",
    "    # 用众数填充 train 和 test 集中的 '-'\n",
    "    train['notRepairedDamage'] = train['notRepairedDamage'].replace('-', mode_value)\n",
    "    test['notRepairedDamage'] = test['notRepairedDamage'].replace('-', mode_value)\n",
    "\n",
    "    return train, test"
   ],
   "id": "36b51513f43c05c4",
   "outputs": [],
   "execution_count": 29
  },
  {
   "metadata": {
    "ExecuteTime": {
     "end_time": "2025-04-14T14:12:50.717246Z",
     "start_time": "2025-04-14T14:12:50.714058Z"
    }
   },
   "cell_type": "code",
   "source": [
    "# v12,v13,v14\n",
    "def v_fill(train,test,i):\n",
    "    train_value = train[f'v_{i}'].mode()[0]\n",
    "    test_value = test[f'v_{i}'].mode()[0]\n",
    "\n",
    "    train[f'v_{i}'] = train[f'v_{i}'].fillna(train_value)\n",
    "    test[f'v_{i}'] = test[f'v_{i}'].fillna(test_value)"
   ],
   "id": "ba48846bbbf91eee",
   "outputs": [],
   "execution_count": 30
  },
  {
   "metadata": {
    "ExecuteTime": {
     "end_time": "2025-04-14T14:12:50.735906Z",
     "start_time": "2025-04-14T14:12:50.733026Z"
    }
   },
   "cell_type": "code",
   "source": [
    "def convert_to_numeric(df):\n",
    "    for col in df.columns:\n",
    "        df[col] = pd.to_numeric(df[col], errors='coerce')\n",
    "    return df"
   ],
   "id": "3e179f66c76ff90d",
   "outputs": [],
   "execution_count": 31
  },
  {
   "metadata": {
    "ExecuteTime": {
     "end_time": "2025-04-14T14:12:50.755943Z",
     "start_time": "2025-04-14T14:12:50.752475Z"
    }
   },
   "cell_type": "code",
   "source": [
    "def date_fill(series):\n",
    "    \"\"\"\n",
    "    安全转换日期列并自动用众数填充无效值\n",
    "\n",
    "    参数：\n",
    "        series: pd.Series 原始日期列\n",
    "\n",
    "    返回：\n",
    "        pd.Series 转换后的日期列（已用众数填充无效值）\n",
    "    \"\"\"\n",
    "    # 预处理：转换为字符串并去除空格\n",
    "    date_str = series.astype(str).str.strip()\n",
    "\n",
    "    # 第一步：尝试严格转换\n",
    "    # 1. 格式有效性验证\n",
    "    valid_mask = (\n",
    "        date_str.str.len() == 8                # 长度必须为8\n",
    "        & date_str.str.isdigit()               # 必须全为数字\n",
    "        & date_str.str[4:6].between('01', '12')  # 月份必须有效\n",
    "        & date_str.str[6:8].between('01', '31')  # 简化日期校验\n",
    "    )\n",
    "\n",
    "    # 2. 严格转换（仅转换有效格式）\n",
    "    strict_dates = pd.to_datetime(\n",
    "        date_str.where(valid_mask, np.nan),\n",
    "        format='%Y%m%d',\n",
    "        errors='coerce'\n",
    "    )\n",
    "\n",
    "    # 第二步：计算众数\n",
    "    # 1. 排除NaT后的有效众数\n",
    "    mode_result = strict_dates.dropna().mode()\n",
    "\n",
    "    # 2. 处理无有效日期的情况\n",
    "    if len(mode_result) == 0:\n",
    "        mode_date = pd.NaT  # 如果全无效则保留NaT\n",
    "    else:\n",
    "        mode_date = mode_result[0]  # 取第一个众数\n",
    "\n",
    "    # 第三步：填充并返回\n",
    "    return strict_dates.fillna(mode_date)"
   ],
   "id": "ab6a0e88014f47d0",
   "outputs": [],
   "execution_count": 32
  },
  {
   "metadata": {
    "ExecuteTime": {
     "end_time": "2025-04-14T14:12:50.776491Z",
     "start_time": "2025-04-14T14:12:50.773474Z"
    }
   },
   "cell_type": "code",
   "source": "",
   "id": "b0b170354c0b6b2e",
   "outputs": [],
   "execution_count": null
  },
  {
   "metadata": {
    "ExecuteTime": {
     "end_time": "2025-04-14T14:12:50.804874Z",
     "start_time": "2025-04-14T14:12:50.793912Z"
    }
   },
   "cell_type": "code",
   "source": [
    "#数据加载\n",
    "def load_data():\n",
    "    train = pd.read_csv('used_car_train_20200313.csv', sep=' ')\n",
    "    test = pd.read_csv('used_car_testB_20200421.csv', sep=' ')\n",
    "    return train, test\n",
    "\n",
    "#数据预处理\n",
    "def data_processing(train, test):\n",
    "    # 缺失值处理\n",
    "    notRepairedDamage_fill(train, test)\n",
    "    gearbox_fill(train, test)\n",
    "    bodyType_fill(train, test)\n",
    "    fuelType_fill(train, test)\n",
    "\n",
    "    convert_to_numeric(train)\n",
    "    convert_to_numeric(test)\n",
    "    # 将 regDate 和 creatDate 转换成日期格式，并对缺失值进行处理\n",
    "    for col in ['creatDate', 'regDate']:\n",
    "        train[col] = date_fill(train[col])\n",
    "        test[col] = date_fill(test[col])\n",
    "\n",
    "# 特征工程\n",
    "def feature_engineering(df):\n",
    "    \"\"\"时间特征处理\"\"\"\n",
    "    # 计算车龄\n",
    "    df['creatDate'] = pd.to_datetime(df['creatDate'], format='%Y%m%d')\n",
    "    df['regDate'] = pd.to_datetime(df['regDate'], format='%Y%m%d')\n",
    "\n",
    "    df['car_age'] = (df['creatDate'].dt.year - df['regDate'].dt.year) + (df['creatDate'].dt.month - df['regDate'].dt.month) / 12\n",
    "\n",
    "    # 注册日期特征\n",
    "    df['regDate_year'] = df['regDate'].dt.year\n",
    "    df['regDate_month'] = df['regDate'].dt.month\n",
    "    df['regDate_day'] = df['regDate'].dt.day\n",
    "\n",
    "    \"\"\"类别特征处理\"\"\"\n",
    "    # 高频类别编码\n",
    "    for col in ['brand', 'regionCode']:\n",
    "        freq = df[col].value_counts(normalize=True)\n",
    "        df[f'{col}_freq'] = df[col].map(freq)\n",
    "\n",
    "    # 特殊类别处理\n",
    "    df['notRepairedDamage'] = pd.to_numeric(df['notRepairedDamage'], errors='coerce')\n",
    "    df['notRepairedDamage'] = df['notRepairedDamage'].astype('category').cat.codes\n",
    "\n",
    "    \"\"\"数值特征处理\"\"\"\n",
    "    # 发动机功率异常处理\n",
    "    df['power'] = np.where(df['power'] > 600, 600, df['power'])\n",
    "    df['power'] = np.where(df['power'] < 0, 0, df['power'])\n",
    "\n",
    "    # 行驶里程分箱\n",
    "    df['kilometer_bin'] = pd.cut(df['kilometer'], bins=10, labels=False)\n",
    "\n",
    "    \"\"\"匿名特征处理\"\"\"\n",
    "    v_cols = [f'v_{i}' for i in range(15)]\n",
    "    scaler = StandardScaler()\n",
    "    df[v_cols] = scaler.fit_transform(df[v_cols])\n",
    "\n",
    "    \"\"\"特征筛选\"\"\"\n",
    "    drop_cols = ['SaleID', 'name', 'regDate', 'creatDate', 'model', 'seller', 'offerType']\n",
    "    df.drop(drop_cols, axis=1, inplace=True, errors='ignore')\n",
    "\n",
    "    return df\n",
    "\n",
    "# 建模流程\n",
    "def lgb_model(train, test):\n",
    "    # 数据准备\n",
    "    y_train = np.log1p(train['price'])  # 对数变换\n",
    "    X_train = train.drop(['price'], axis=1)\n",
    "    X_test = test.copy()\n",
    "\n",
    "    # 初始化模型参数\n",
    "    params = {\n",
    "        'boosting_type': 'gbdt',\n",
    "        'objective': 'regression',\n",
    "        'metric': 'mae',\n",
    "        'learning_rate': 0.01,\n",
    "        'num_leaves': 31,\n",
    "        'min_data_in_leaf': 20,\n",
    "        'feature_fraction': 0.8,\n",
    "        'bagging_fraction': 0.8,\n",
    "        'bagging_freq': 5,\n",
    "        'lambda_l1': 0.1,\n",
    "        'lambda_l2': 0.1,\n",
    "        'verbosity': -1  # 完全静默模式\n",
    "    }\n",
    "\n",
    "    # 交叉验证\n",
    "    folds = KFold(n_splits=5, shuffle=True, random_state=2022)\n",
    "    predictions = np.zeros(len(X_test))\n",
    "    feature_importance = pd.DataFrame()\n",
    "\n",
    "    best_mae = float('inf')\n",
    "    for fold_, (trn_idx, val_idx) in enumerate(folds.split(X_train)):\n",
    "        print(f'Fold{fold_ + 1}')\n",
    "        trn_data = lgb.Dataset(X_train.iloc[trn_idx], label=y_train.iloc[trn_idx])\n",
    "        val_data = lgb.Dataset(X_train.iloc[val_idx], label=y_train.iloc[val_idx])\n",
    "\n",
    "        model = lgb.train(\n",
    "            params,\n",
    "            train_set=trn_data,\n",
    "            num_boost_round=10000,\n",
    "            valid_sets=[trn_data, val_data],\n",
    "            valid_names=['train', 'valid'],\n",
    "            callbacks=[\n",
    "                lgb.log_evaluation(period=500),\n",
    "                lgb.early_stopping(stopping_rounds=100)  # 显式回调\n",
    "            ]\n",
    "        )\n",
    "\n",
    "        # 计算验证集上的 MAE\n",
    "        val_preds = model.predict(X_train.iloc[val_idx], num_iteration=model.best_iteration)\n",
    "        mae = np.mean(np.abs(y_train.iloc[val_idx] - val_preds))\n",
    "\n",
    "        # 更新最佳 MAE\n",
    "        if mae < best_mae:\n",
    "            best_mae = mae\n",
    "\n",
    "        # 特征重要性\n",
    "        fold_importance = pd.DataFrame()\n",
    "        fold_importance[\"feature\"] = X_train.columns\n",
    "        fold_importance[\"importance\"] = model.feature_importance()\n",
    "        fold_importance[\"fold\"] = fold_ + 1\n",
    "        feature_importance = pd.concat([feature_importance, fold_importance], axis=0)\n",
    "\n",
    "        # 预测\n",
    "        predictions += model.predict(X_test, num_iteration=model.best_iteration) / folds.n_splits\n",
    "\n",
    "    print(f\"最好一次交叉验证的平均绝对误差 (MAE): {best_mae}\")\n",
    "\n",
    "    return np.expm1(predictions), feature_importance  # 逆变换\n",
    "\n"
   ],
   "id": "3324047ff3e9c96a",
   "outputs": [],
   "execution_count": 33
  },
  {
   "metadata": {
    "ExecuteTime": {
     "end_time": "2025-04-14T14:16:09.858628Z",
     "start_time": "2025-04-14T14:13:32.556802Z"
    }
   },
   "cell_type": "code",
   "source": [
    "\n",
    "# --------------------------\n",
    "# 主流程\n",
    "# --------------------------\n",
    "if __name__ == '__main__':\n",
    "    # 数据加载\n",
    "    train,test = load_data()\n",
    "\n",
    "    # 数据预处理\n",
    "    print(\"Data processing ...\")\n",
    "    data_processing(train,test)\n",
    "    # 特征工程\n",
    "    print(\"Processing train data...\")\n",
    "    train = feature_engineering(train)\n",
    "    print(\"Processing test data...\")\n",
    "    test = feature_engineering(test)\n",
    "\n",
    "    # 建模预测\n",
    "    print(\"Start training...\")\n",
    "    preds, feature_importance = lgb_model(train,test)"
   ],
   "id": "1135b30252a38b0",
   "outputs": [
    {
     "name": "stdout",
     "output_type": "stream",
     "text": [
      "Data processing ...\n",
      "Processing train data...\n",
      "Processing test data...\n",
      "Start training...\n",
      "Fold1\n",
      "Training until validation scores don't improve for 100 rounds\n",
      "[500]\ttrain's l1: 0.16301\tvalid's l1: 0.165496\n",
      "[1000]\ttrain's l1: 0.151654\tvalid's l1: 0.156412\n",
      "[1500]\ttrain's l1: 0.146418\tvalid's l1: 0.153087\n",
      "[2000]\ttrain's l1: 0.142281\tvalid's l1: 0.150895\n",
      "[2500]\ttrain's l1: 0.138988\tvalid's l1: 0.149451\n",
      "[3000]\ttrain's l1: 0.136093\tvalid's l1: 0.14834\n",
      "[3500]\ttrain's l1: 0.133459\tvalid's l1: 0.147326\n",
      "[4000]\ttrain's l1: 0.131079\tvalid's l1: 0.146532\n",
      "[4500]\ttrain's l1: 0.12883\tvalid's l1: 0.145704\n",
      "[5000]\ttrain's l1: 0.126795\tvalid's l1: 0.145145\n",
      "[5500]\ttrain's l1: 0.124906\tvalid's l1: 0.144723\n",
      "[6000]\ttrain's l1: 0.123079\tvalid's l1: 0.144261\n",
      "[6500]\ttrain's l1: 0.121254\tvalid's l1: 0.143836\n",
      "[7000]\ttrain's l1: 0.119524\tvalid's l1: 0.143342\n",
      "[7500]\ttrain's l1: 0.117972\tvalid's l1: 0.142993\n",
      "[8000]\ttrain's l1: 0.116426\tvalid's l1: 0.142713\n",
      "[8500]\ttrain's l1: 0.114873\tvalid's l1: 0.142349\n",
      "[9000]\ttrain's l1: 0.113387\tvalid's l1: 0.142004\n",
      "[9500]\ttrain's l1: 0.111967\tvalid's l1: 0.141734\n",
      "[10000]\ttrain's l1: 0.110636\tvalid's l1: 0.141465\n",
      "Did not meet early stopping. Best iteration is:\n",
      "[10000]\ttrain's l1: 0.110636\tvalid's l1: 0.141465\n",
      "Fold2\n",
      "Training until validation scores don't improve for 100 rounds\n",
      "[500]\ttrain's l1: 0.163029\tvalid's l1: 0.164151\n",
      "[1000]\ttrain's l1: 0.151747\tvalid's l1: 0.155252\n",
      "[1500]\ttrain's l1: 0.146558\tvalid's l1: 0.152078\n",
      "[2000]\ttrain's l1: 0.142664\tvalid's l1: 0.150085\n",
      "[2500]\ttrain's l1: 0.139433\tvalid's l1: 0.148814\n",
      "[3000]\ttrain's l1: 0.136562\tvalid's l1: 0.147609\n",
      "[3500]\ttrain's l1: 0.133985\tvalid's l1: 0.146638\n",
      "[4000]\ttrain's l1: 0.131552\tvalid's l1: 0.145765\n",
      "[4500]\ttrain's l1: 0.129257\tvalid's l1: 0.14497\n",
      "[5000]\ttrain's l1: 0.127181\tvalid's l1: 0.144337\n",
      "[5500]\ttrain's l1: 0.125185\tvalid's l1: 0.14372\n",
      "[6000]\ttrain's l1: 0.123335\tvalid's l1: 0.143209\n",
      "[6500]\ttrain's l1: 0.121585\tvalid's l1: 0.142769\n",
      "[7000]\ttrain's l1: 0.119869\tvalid's l1: 0.142276\n",
      "[7500]\ttrain's l1: 0.118182\tvalid's l1: 0.141872\n",
      "[8000]\ttrain's l1: 0.116617\tvalid's l1: 0.141528\n",
      "[8500]\ttrain's l1: 0.115128\tvalid's l1: 0.141168\n",
      "[9000]\ttrain's l1: 0.113683\tvalid's l1: 0.140928\n",
      "[9500]\ttrain's l1: 0.112227\tvalid's l1: 0.140576\n",
      "[10000]\ttrain's l1: 0.110905\tvalid's l1: 0.140339\n",
      "Did not meet early stopping. Best iteration is:\n",
      "[10000]\ttrain's l1: 0.110905\tvalid's l1: 0.140339\n",
      "Fold3\n",
      "Training until validation scores don't improve for 100 rounds\n",
      "[500]\ttrain's l1: 0.162535\tvalid's l1: 0.165488\n",
      "[1000]\ttrain's l1: 0.151129\tvalid's l1: 0.156228\n",
      "[1500]\ttrain's l1: 0.145932\tvalid's l1: 0.153064\n",
      "[2000]\ttrain's l1: 0.14207\tvalid's l1: 0.15114\n",
      "[2500]\ttrain's l1: 0.138686\tvalid's l1: 0.149577\n",
      "[3000]\ttrain's l1: 0.13577\tvalid's l1: 0.148371\n",
      "[3500]\ttrain's l1: 0.133051\tvalid's l1: 0.147297\n",
      "[4000]\ttrain's l1: 0.130585\tvalid's l1: 0.146423\n",
      "[4500]\ttrain's l1: 0.128403\tvalid's l1: 0.145751\n",
      "[5000]\ttrain's l1: 0.126332\tvalid's l1: 0.145186\n",
      "[5500]\ttrain's l1: 0.12434\tvalid's l1: 0.144539\n",
      "[6000]\ttrain's l1: 0.122554\tvalid's l1: 0.144061\n",
      "[6500]\ttrain's l1: 0.120797\tvalid's l1: 0.143597\n",
      "[7000]\ttrain's l1: 0.119102\tvalid's l1: 0.143165\n",
      "[7500]\ttrain's l1: 0.117525\tvalid's l1: 0.142824\n",
      "[8000]\ttrain's l1: 0.115971\tvalid's l1: 0.142449\n",
      "[8500]\ttrain's l1: 0.114464\tvalid's l1: 0.142074\n",
      "[9000]\ttrain's l1: 0.113012\tvalid's l1: 0.141786\n",
      "[9500]\ttrain's l1: 0.111584\tvalid's l1: 0.141467\n",
      "[10000]\ttrain's l1: 0.110224\tvalid's l1: 0.141187\n",
      "Did not meet early stopping. Best iteration is:\n",
      "[9992]\ttrain's l1: 0.110243\tvalid's l1: 0.141184\n",
      "Fold4\n",
      "Training until validation scores don't improve for 100 rounds\n",
      "[500]\ttrain's l1: 0.162283\tvalid's l1: 0.16672\n",
      "[1000]\ttrain's l1: 0.151237\tvalid's l1: 0.157426\n",
      "[1500]\ttrain's l1: 0.145963\tvalid's l1: 0.154011\n",
      "[2000]\ttrain's l1: 0.141982\tvalid's l1: 0.151807\n",
      "[2500]\ttrain's l1: 0.138645\tvalid's l1: 0.150181\n",
      "[3000]\ttrain's l1: 0.135751\tvalid's l1: 0.149005\n",
      "[3500]\ttrain's l1: 0.133171\tvalid's l1: 0.148068\n",
      "[4000]\ttrain's l1: 0.13079\tvalid's l1: 0.14726\n",
      "[4500]\ttrain's l1: 0.128594\tvalid's l1: 0.146575\n",
      "[5000]\ttrain's l1: 0.126476\tvalid's l1: 0.145953\n",
      "[5500]\ttrain's l1: 0.124458\tvalid's l1: 0.145332\n",
      "[6000]\ttrain's l1: 0.12262\tvalid's l1: 0.144884\n",
      "[6500]\ttrain's l1: 0.12074\tvalid's l1: 0.144305\n",
      "[7000]\ttrain's l1: 0.118995\tvalid's l1: 0.143837\n",
      "[7500]\ttrain's l1: 0.117374\tvalid's l1: 0.143471\n",
      "[8000]\ttrain's l1: 0.115842\tvalid's l1: 0.143167\n",
      "[8500]\ttrain's l1: 0.114335\tvalid's l1: 0.142828\n",
      "[9000]\ttrain's l1: 0.112846\tvalid's l1: 0.142458\n",
      "[9500]\ttrain's l1: 0.111441\tvalid's l1: 0.14216\n",
      "[10000]\ttrain's l1: 0.110074\tvalid's l1: 0.141864\n",
      "Did not meet early stopping. Best iteration is:\n",
      "[9994]\ttrain's l1: 0.110087\tvalid's l1: 0.141864\n",
      "Fold5\n",
      "Training until validation scores don't improve for 100 rounds\n",
      "[500]\ttrain's l1: 0.16253\tvalid's l1: 0.166192\n",
      "[1000]\ttrain's l1: 0.15142\tvalid's l1: 0.1573\n",
      "[1500]\ttrain's l1: 0.146247\tvalid's l1: 0.154045\n",
      "[2000]\ttrain's l1: 0.142349\tvalid's l1: 0.152061\n",
      "[2500]\ttrain's l1: 0.13889\tvalid's l1: 0.150473\n",
      "[3000]\ttrain's l1: 0.135959\tvalid's l1: 0.149259\n",
      "[3500]\ttrain's l1: 0.133397\tvalid's l1: 0.148336\n",
      "[4000]\ttrain's l1: 0.130855\tvalid's l1: 0.147458\n",
      "[4500]\ttrain's l1: 0.128513\tvalid's l1: 0.146636\n",
      "[5000]\ttrain's l1: 0.126442\tvalid's l1: 0.146074\n",
      "[5500]\ttrain's l1: 0.124573\tvalid's l1: 0.145624\n",
      "[6000]\ttrain's l1: 0.122746\tvalid's l1: 0.14516\n",
      "[6500]\ttrain's l1: 0.120929\tvalid's l1: 0.144712\n",
      "[7000]\ttrain's l1: 0.119245\tvalid's l1: 0.144296\n",
      "[7500]\ttrain's l1: 0.117568\tvalid's l1: 0.143872\n",
      "[8000]\ttrain's l1: 0.116067\tvalid's l1: 0.143624\n",
      "[8500]\ttrain's l1: 0.114571\tvalid's l1: 0.14328\n",
      "[9000]\ttrain's l1: 0.113153\tvalid's l1: 0.142988\n",
      "[9500]\ttrain's l1: 0.111736\tvalid's l1: 0.142634\n",
      "[10000]\ttrain's l1: 0.110429\tvalid's l1: 0.142449\n",
      "Did not meet early stopping. Best iteration is:\n",
      "[9999]\ttrain's l1: 0.110432\tvalid's l1: 0.142448\n",
      "最好一次交叉验证的平均绝对误差 (MAE): 0.14033899030396976\n"
     ]
    }
   ],
   "execution_count": 35
  },
  {
   "metadata": {
    "ExecuteTime": {
     "end_time": "2025-04-14T14:16:40.675353Z",
     "start_time": "2025-04-14T14:16:39.535567Z"
    }
   },
   "cell_type": "code",
   "source": [
    "import seaborn as sns\n",
    "# 生成提交文件\n",
    "\n",
    "submission = pd.read_csv('used_car_testB_20200421.csv',sep=r'\\s+',engine='python')[['SaleID']]\n",
    "submission['price'] = preds\n",
    "submission.to_csv('./submission.csv',index=False)\n",
    "\n",
    "\n",
    "# 特征重要性分析\n",
    "plt.figure(figsize=(12,8))\n",
    "sns.barplot(x=\"importance\",y=\"feature\",data=feature_importance.groupby('feature',as_index=False)['importance'].mean(0).sort_values(by='importance',ascending=False).head(20))\n",
    "plt.title('LightGBM Feature (avg over folds)')\n",
    "plt.tight_layout()\n",
    "plt.savefig('./feature_importance.png')"
   ],
   "id": "a9771d3fe89d1e8f",
   "outputs": [
    {
     "data": {
      "text/plain": [
       "<Figure size 1200x800 with 1 Axes>"
      ],
      "image/png": "[encoded data removed]"
     },
     "metadata": {},
     "output_type": "display_data"
    }
   ],
   "execution_count": 36
  },
  {
   "metadata": {},
   "cell_type": "code",
   "outputs": [],
   "execution_count": null,
   "source": "",
   "id": "67b64d9b1dea07a2"
  }
 ],
 "metadata": {
  "kernelspec": {
   "display_name": "Python 3",
   "language": "python",
   "name": "python3"
  },
  "language_info": {
   "codemirror_mode": {
    "name": "ipython",
    "version": 2
   },
   "file_extension": ".py",
   "mimetype": "text/x-python",
   "name": "python",
   "nbconvert_exporter": "python",
   "pygments_lexer": "ipython2",
   "version": "2.7.6"
  }
 },
 "nbformat": 4,
 "nbformat_minor": 5
}
